{
 "cells": [
  {
   "cell_type": "code",
   "execution_count": 343,
   "metadata": {},
   "outputs": [],
   "source": [
    "import pandas as pd\n",
    "# https://github.com/SohierDane/BigQuery_Helper\n",
    "from bq_helper import BigQueryHelper\n",
    "import matplotlib.pyplot as plt\n",
    "import seaborn as sns\n",
    "%matplotlib inline"
   ]
  },
  {
   "cell_type": "code",
   "execution_count": 2,
   "metadata": {},
   "outputs": [],
   "source": [
    "# Creating a BigQueryHelper object\n",
    "active_project = 'bigquery-public-data'\n",
    "dataset_name = 'github_repos'\n",
    "service_account_json_key = 'key.json'\n",
    "bq_assistant = BigQueryHelper(active_project, dataset_name, service_account_json_key)"
   ]
  },
  {
   "cell_type": "code",
   "execution_count": 3,
   "metadata": {},
   "outputs": [
    {
     "data": {
      "text/plain": [
       "['commits',\n",
       " 'contents',\n",
       " 'files',\n",
       " 'languages',\n",
       " 'licenses',\n",
       " 'sample_commits',\n",
       " 'sample_contents',\n",
       " 'sample_files',\n",
       " 'sample_repos']"
      ]
     },
     "execution_count": 3,
     "metadata": {},
     "output_type": "execute_result"
    }
   ],
   "source": [
    "# Listing tables\n",
    "\n",
    "bq_assistant.list_tables()"
   ]
  },
  {
   "cell_type": "code",
   "execution_count": 4,
   "metadata": {},
   "outputs": [
    {
     "data": {
      "text/html": [
       "<div>\n",
       "<table border=\"1\" class=\"dataframe\">\n",
       "  <thead>\n",
       "    <tr style=\"text-align: right;\">\n",
       "      <th></th>\n",
       "      <th>repo_name</th>\n",
       "      <th>license</th>\n",
       "    </tr>\n",
       "  </thead>\n",
       "  <tbody>\n",
       "    <tr>\n",
       "      <th>0</th>\n",
       "      <td>CharlotteNgs/NgsSim</td>\n",
       "      <td>artistic-2.0</td>\n",
       "    </tr>\n",
       "    <tr>\n",
       "      <th>1</th>\n",
       "      <td>ranjeethmahankali/SpacePlanning</td>\n",
       "      <td>artistic-2.0</td>\n",
       "    </tr>\n",
       "    <tr>\n",
       "      <th>2</th>\n",
       "      <td>eparedesb/Example2015</td>\n",
       "      <td>artistic-2.0</td>\n",
       "    </tr>\n",
       "    <tr>\n",
       "      <th>3</th>\n",
       "      <td>luiscotua/Proyecto-1</td>\n",
       "      <td>artistic-2.0</td>\n",
       "    </tr>\n",
       "    <tr>\n",
       "      <th>4</th>\n",
       "      <td>sanko/Finance-Robinhood</td>\n",
       "      <td>artistic-2.0</td>\n",
       "    </tr>\n",
       "    <tr>\n",
       "      <th>5</th>\n",
       "      <td>bigthing33/LoginDemo</td>\n",
       "      <td>artistic-2.0</td>\n",
       "    </tr>\n",
       "    <tr>\n",
       "      <th>6</th>\n",
       "      <td>opencloset/OpenCloset-Share-Web</td>\n",
       "      <td>artistic-2.0</td>\n",
       "    </tr>\n",
       "    <tr>\n",
       "      <th>7</th>\n",
       "      <td>egamboa/satelites-vagando</td>\n",
       "      <td>artistic-2.0</td>\n",
       "    </tr>\n",
       "    <tr>\n",
       "      <th>8</th>\n",
       "      <td>PeterMartini/net-ipmi-pp</td>\n",
       "      <td>artistic-2.0</td>\n",
       "    </tr>\n",
       "    <tr>\n",
       "      <th>9</th>\n",
       "      <td>daweking/ada-</td>\n",
       "      <td>artistic-2.0</td>\n",
       "    </tr>\n",
       "  </tbody>\n",
       "</table>\n",
       "</div>"
      ],
      "text/plain": [
       "                         repo_name       license\n",
       "0              CharlotteNgs/NgsSim  artistic-2.0\n",
       "1  ranjeethmahankali/SpacePlanning  artistic-2.0\n",
       "2            eparedesb/Example2015  artistic-2.0\n",
       "3             luiscotua/Proyecto-1  artistic-2.0\n",
       "4          sanko/Finance-Robinhood  artistic-2.0\n",
       "5             bigthing33/LoginDemo  artistic-2.0\n",
       "6  opencloset/OpenCloset-Share-Web  artistic-2.0\n",
       "7        egamboa/satelites-vagando  artistic-2.0\n",
       "8         PeterMartini/net-ipmi-pp  artistic-2.0\n",
       "9                    daweking/ada-  artistic-2.0"
      ]
     },
     "execution_count": 4,
     "metadata": {},
     "output_type": "execute_result"
    }
   ],
   "source": [
    "# Inspecting table rows\n",
    "bq_assistant.head(\"licenses\", num_rows=10)"
   ]
  },
  {
   "cell_type": "code",
   "execution_count": 5,
   "metadata": {},
   "outputs": [],
   "source": [
    "# query conditions + limit\n",
    "# SELECT 2000 commit messages from the commits table wich size bewteen 7 and 20 .\n",
    "QUERY_LIMIT = \"\"\"\n",
    "        SELECT message\n",
    "        FROM `bigquery-public-data.github_repos.commits`\n",
    "        WHERE LENGTH(message) > 6 AND LENGTH(message) <= 20\n",
    "        LIMIT 2000\n",
    "        \"\"\""
   ]
  },
  {
   "cell_type": "code",
   "execution_count": 6,
   "metadata": {},
   "outputs": [
    {
     "name": "stdout",
     "output_type": "stream",
     "text": [
      "\n",
      "        SELECT message\n",
      "        FROM `bigquery-public-data.github_repos.commits`\n",
      "        WHERE LENGTH(message) > 6 AND LENGTH(message) <= 20\n",
      "        LIMIT 2000\n",
      "        \n"
     ]
    }
   ],
   "source": [
    "print(QUERY_LIMIT)"
   ]
  },
  {
   "cell_type": "code",
   "execution_count": 7,
   "metadata": {},
   "outputs": [],
   "source": [
    "# query full scan\n",
    "# SELECT 2000 commit messages from the commits table wich size bewteen 7 and 20 .\n",
    "QUERY_FULL_SCAN = \"\"\"\n",
    "        SELECT message\n",
    "        FROM `bigquery-public-data.github_repos.commits`\n",
    "        \"\"\""
   ]
  },
  {
   "cell_type": "code",
   "execution_count": 8,
   "metadata": {},
   "outputs": [
    {
     "name": "stdout",
     "output_type": "stream",
     "text": [
      "\n",
      "        SELECT message\n",
      "        FROM `bigquery-public-data.github_repos.commits`\n",
      "        \n"
     ]
    }
   ],
   "source": [
    "print(QUERY_FULL_SCAN)"
   ]
  },
  {
   "cell_type": "code",
   "execution_count": 9,
   "metadata": {},
   "outputs": [
    {
     "data": {
      "text/plain": [
       "18.36539830546826"
      ]
     },
     "execution_count": 9,
     "metadata": {},
     "output_type": "execute_result"
    }
   ],
   "source": [
    "# Estimating query size (QUERY_LIMIT = 2000)\n",
    "bq_assistant.estimate_query_size(QUERY_LIMIT)"
   ]
  },
  {
   "cell_type": "code",
   "execution_count": 10,
   "metadata": {},
   "outputs": [
    {
     "data": {
      "text/plain": [
       "18.36539830546826"
      ]
     },
     "execution_count": 10,
     "metadata": {},
     "output_type": "execute_result"
    }
   ],
   "source": [
    "# Estimating query size (QUERY_FULL_SCAN)\n",
    "bq_assistant.estimate_query_size(QUERY_FULL_SCAN)"
   ]
  },
  {
   "cell_type": "code",
   "execution_count": null,
   "metadata": {},
   "outputs": [],
   "source": [
    "# The same size for QUERY_LIMIT=2000 and QUERY_FULL_SCAN"
   ]
  },
  {
   "cell_type": "code",
   "execution_count": 11,
   "metadata": {},
   "outputs": [
    {
     "name": "stdout",
     "output_type": "stream",
     "text": [
      "Query cancelled; estimated size of 18.36539830546826 exceeds limit of 1 GB\n"
     ]
    }
   ],
   "source": [
    "# Executing queries safely\n",
    "df = bq_assistant.query_to_pandas_safe(QUERY_LIMIT)"
   ]
  },
  {
   "cell_type": "code",
   "execution_count": 22,
   "metadata": {},
   "outputs": [],
   "source": [
    "# Query licenses\n",
    "QUERY_LICENSES = \"\"\"\n",
    "        SELECT license, COUNT(*) AS count_license\n",
    "        FROM `bigquery-public-data.github_repos.licenses`\n",
    "        GROUP BY license\n",
    "        ORDER BY count_license DESC\n",
    "        \"\"\""
   ]
  },
  {
   "cell_type": "code",
   "execution_count": 23,
   "metadata": {},
   "outputs": [
    {
     "name": "stdout",
     "output_type": "stream",
     "text": [
      "\n",
      "        SELECT license, COUNT(*) AS count_license\n",
      "        FROM `bigquery-public-data.github_repos.licenses`\n",
      "        GROUP BY license\n",
      "        ORDER BY count_license DESC\n",
      "        \n"
     ]
    }
   ],
   "source": [
    "print(QUERY_LICENSES)"
   ]
  },
  {
   "cell_type": "code",
   "execution_count": 24,
   "metadata": {},
   "outputs": [
    {
     "data": {
      "text/plain": [
       "0.02462900709360838"
      ]
     },
     "execution_count": 24,
     "metadata": {},
     "output_type": "execute_result"
    }
   ],
   "source": [
    "# Estimate the size of my query to make sure it's not too huge\n",
    "bq_assistant.estimate_query_size(QUERY_LICENSES)"
   ]
  },
  {
   "cell_type": "code",
   "execution_count": 25,
   "metadata": {},
   "outputs": [],
   "source": [
    "# Execute my query using query_to_pandas_safe to get my results in a pandas dataframe\n",
    "df = bq_assistant.query_to_pandas_safe(QUERY_LICENSES)"
   ]
  },
  {
   "cell_type": "code",
   "execution_count": 26,
   "metadata": {},
   "outputs": [
    {
     "name": "stdout",
     "output_type": "stream",
     "text": [
      "Size of dataframe: 1175 Bytes\n"
     ]
    }
   ],
   "source": [
    "# Explore the head of results\n",
    "print('Size of dataframe: {} Bytes'.format(int(df.memory_usage(index=True, deep=True).sum())))"
   ]
  },
  {
   "cell_type": "code",
   "execution_count": 27,
   "metadata": {
    "scrolled": true
   },
   "outputs": [
    {
     "data": {
      "text/html": [
       "<div>\n",
       "<table border=\"1\" class=\"dataframe\">\n",
       "  <thead>\n",
       "    <tr style=\"text-align: right;\">\n",
       "      <th></th>\n",
       "      <th>license</th>\n",
       "      <th>count_license</th>\n",
       "    </tr>\n",
       "  </thead>\n",
       "  <tbody>\n",
       "    <tr>\n",
       "      <th>0</th>\n",
       "      <td>mit</td>\n",
       "      <td>1729173</td>\n",
       "    </tr>\n",
       "    <tr>\n",
       "      <th>1</th>\n",
       "      <td>apache-2.0</td>\n",
       "      <td>498251</td>\n",
       "    </tr>\n",
       "    <tr>\n",
       "      <th>2</th>\n",
       "      <td>gpl-2.0</td>\n",
       "      <td>351693</td>\n",
       "    </tr>\n",
       "    <tr>\n",
       "      <th>3</th>\n",
       "      <td>gpl-3.0</td>\n",
       "      <td>348977</td>\n",
       "    </tr>\n",
       "    <tr>\n",
       "      <th>4</th>\n",
       "      <td>bsd-3-clause</td>\n",
       "      <td>161192</td>\n",
       "    </tr>\n",
       "  </tbody>\n",
       "</table>\n",
       "</div>"
      ],
      "text/plain": [
       "        license  count_license\n",
       "0           mit        1729173\n",
       "1    apache-2.0         498251\n",
       "2       gpl-2.0         351693\n",
       "3       gpl-3.0         348977\n",
       "4  bsd-3-clause         161192"
      ]
     },
     "execution_count": 27,
     "metadata": {},
     "output_type": "execute_result"
    }
   ],
   "source": [
    "# Explore the results\n",
    "df.head()"
   ]
  },
  {
   "cell_type": "code",
   "execution_count": 28,
   "metadata": {},
   "outputs": [
    {
     "data": {
      "text/plain": [
       "(15, 2)"
      ]
     },
     "execution_count": 28,
     "metadata": {},
     "output_type": "execute_result"
    }
   ],
   "source": [
    "# Explore the shape of results\n",
    "df.shape"
   ]
  },
  {
   "cell_type": "code",
   "execution_count": 29,
   "metadata": {},
   "outputs": [
    {
     "data": {
      "text/html": [
       "<div>\n",
       "<table border=\"1\" class=\"dataframe\">\n",
       "  <thead>\n",
       "    <tr style=\"text-align: right;\">\n",
       "      <th></th>\n",
       "      <th>license</th>\n",
       "      <th>count_license</th>\n",
       "    </tr>\n",
       "  </thead>\n",
       "  <tbody>\n",
       "    <tr>\n",
       "      <th>0</th>\n",
       "      <td>mit</td>\n",
       "      <td>1729173</td>\n",
       "    </tr>\n",
       "    <tr>\n",
       "      <th>1</th>\n",
       "      <td>apache-2.0</td>\n",
       "      <td>498251</td>\n",
       "    </tr>\n",
       "    <tr>\n",
       "      <th>2</th>\n",
       "      <td>gpl-2.0</td>\n",
       "      <td>351693</td>\n",
       "    </tr>\n",
       "    <tr>\n",
       "      <th>3</th>\n",
       "      <td>gpl-3.0</td>\n",
       "      <td>348977</td>\n",
       "    </tr>\n",
       "    <tr>\n",
       "      <th>4</th>\n",
       "      <td>bsd-3-clause</td>\n",
       "      <td>161192</td>\n",
       "    </tr>\n",
       "    <tr>\n",
       "      <th>5</th>\n",
       "      <td>bsd-2-clause</td>\n",
       "      <td>57770</td>\n",
       "    </tr>\n",
       "    <tr>\n",
       "      <th>6</th>\n",
       "      <td>unlicense</td>\n",
       "      <td>47296</td>\n",
       "    </tr>\n",
       "    <tr>\n",
       "      <th>7</th>\n",
       "      <td>agpl-3.0</td>\n",
       "      <td>42595</td>\n",
       "    </tr>\n",
       "    <tr>\n",
       "      <th>8</th>\n",
       "      <td>lgpl-3.0</td>\n",
       "      <td>40484</td>\n",
       "    </tr>\n",
       "    <tr>\n",
       "      <th>9</th>\n",
       "      <td>cc0-1.0</td>\n",
       "      <td>27607</td>\n",
       "    </tr>\n",
       "    <tr>\n",
       "      <th>10</th>\n",
       "      <td>epl-1.0</td>\n",
       "      <td>24804</td>\n",
       "    </tr>\n",
       "    <tr>\n",
       "      <th>11</th>\n",
       "      <td>lgpl-2.1</td>\n",
       "      <td>23882</td>\n",
       "    </tr>\n",
       "    <tr>\n",
       "      <th>12</th>\n",
       "      <td>mpl-2.0</td>\n",
       "      <td>19195</td>\n",
       "    </tr>\n",
       "    <tr>\n",
       "      <th>13</th>\n",
       "      <td>isc</td>\n",
       "      <td>18064</td>\n",
       "    </tr>\n",
       "    <tr>\n",
       "      <th>14</th>\n",
       "      <td>artistic-2.0</td>\n",
       "      <td>8870</td>\n",
       "    </tr>\n",
       "  </tbody>\n",
       "</table>\n",
       "</div>"
      ],
      "text/plain": [
       "         license  count_license\n",
       "0            mit        1729173\n",
       "1     apache-2.0         498251\n",
       "2        gpl-2.0         351693\n",
       "3        gpl-3.0         348977\n",
       "4   bsd-3-clause         161192\n",
       "5   bsd-2-clause          57770\n",
       "6      unlicense          47296\n",
       "7       agpl-3.0          42595\n",
       "8       lgpl-3.0          40484\n",
       "9        cc0-1.0          27607\n",
       "10       epl-1.0          24804\n",
       "11      lgpl-2.1          23882\n",
       "12       mpl-2.0          19195\n",
       "13           isc          18064\n",
       "14  artistic-2.0           8870"
      ]
     },
     "execution_count": 29,
     "metadata": {},
     "output_type": "execute_result"
    }
   ],
   "source": [
    "# Explore the whole result\n",
    "df"
   ]
  },
  {
   "cell_type": "code",
   "execution_count": 30,
   "metadata": {},
   "outputs": [
    {
     "data": {
      "image/png": "[encoded data removed]",
      "text/plain": [
       "<matplotlib.figure.Figure at 0x7f8ac6f726a0>"
      ]
     },
     "metadata": {},
     "output_type": "display_data"
    }
   ],
   "source": [
    "# Visualize the license results\n",
    "plt.style.use('ggplot')\n",
    "\n",
    "sns.set_context(\"notebook\", font_scale=1.5, rc={\"lines.linewidth\": 2.5})\n",
    "\n",
    "f, g = plt.subplots(figsize=(12, 9))\n",
    "g = sns.barplot(x=\"license\", y=\"count_license\", data=df, palette=\"Blues_d\")\n",
    "g.set_xticklabels(g.get_xticklabels(), rotation=30)\n",
    "plt.title(\"Popularity of Licenses Used by Open Source Projects on GitHub\")\n",
    "plt.show(g)"
   ]
  },
  {
   "cell_type": "code",
   "execution_count": 152,
   "metadata": {},
   "outputs": [],
   "source": [
    "# Query languages\n",
    "QUERY_LANGUAGES = \"\"\"\n",
    "        SELECT \n",
    "        repo_name AS repoName,\n",
    "        (SELECT COUNT(*) FROM UNNEST(language)) AS numberOfLanguage\n",
    "        FROM `bigquery-public-data.github_repos.languages`\n",
    "        GROUP BY repoName, numberOfLanguage\n",
    "        ORDER BY numberOfLanguage DESC\n",
    "        LIMIT 10\n",
    "        \"\"\""
   ]
  },
  {
   "cell_type": "code",
   "execution_count": 153,
   "metadata": {},
   "outputs": [
    {
     "name": "stdout",
     "output_type": "stream",
     "text": [
      "\n",
      "        SELECT \n",
      "        repo_name AS repoName,\n",
      "        (SELECT COUNT(*) FROM UNNEST(language)) AS numberOfLanguage\n",
      "        FROM `bigquery-public-data.github_repos.languages`\n",
      "        GROUP BY repoName, numberOfLanguage\n",
      "        ORDER BY numberOfLanguage DESC\n",
      "        LIMIT 10\n",
      "        \n"
     ]
    }
   ],
   "source": [
    "print(QUERY_LANGUAGES)"
   ]
  },
  {
   "cell_type": "code",
   "execution_count": 154,
   "metadata": {},
   "outputs": [
    {
     "data": {
      "text/plain": [
       "0.07835182640701532"
      ]
     },
     "execution_count": 154,
     "metadata": {},
     "output_type": "execute_result"
    }
   ],
   "source": [
    "# Estimate the size of my query to make sure it's not too huge\n",
    "bq_assistant.estimate_query_size(QUERY_LANGUAGES)"
   ]
  },
  {
   "cell_type": "code",
   "execution_count": 155,
   "metadata": {},
   "outputs": [],
   "source": [
    "# Execute my query using query_to_pandas_safe to get my results in a pandas dataframe\n",
    "df = bq_assistant.query_to_pandas_safe(QUERY_LANGUAGES)"
   ]
  },
  {
   "cell_type": "code",
   "execution_count": 157,
   "metadata": {},
   "outputs": [
    {
     "data": {
      "text/html": [
       "<div>\n",
       "<table border=\"1\" class=\"dataframe\">\n",
       "  <thead>\n",
       "    <tr style=\"text-align: right;\">\n",
       "      <th></th>\n",
       "      <th>repoName</th>\n",
       "      <th>numberOfLanguage</th>\n",
       "    </tr>\n",
       "  </thead>\n",
       "  <tbody>\n",
       "    <tr>\n",
       "      <th>0</th>\n",
       "      <td>polyrabbit/polyglot</td>\n",
       "      <td>216</td>\n",
       "    </tr>\n",
       "    <tr>\n",
       "      <th>1</th>\n",
       "      <td>nzavagli/UnrealPy</td>\n",
       "      <td>159</td>\n",
       "    </tr>\n",
       "    <tr>\n",
       "      <th>2</th>\n",
       "      <td>mollstam/UnrealPy</td>\n",
       "      <td>159</td>\n",
       "    </tr>\n",
       "    <tr>\n",
       "      <th>3</th>\n",
       "      <td>aswinpj/Pygments</td>\n",
       "      <td>154</td>\n",
       "    </tr>\n",
       "    <tr>\n",
       "      <th>4</th>\n",
       "      <td>objcio/pygments</td>\n",
       "      <td>153</td>\n",
       "    </tr>\n",
       "    <tr>\n",
       "      <th>5</th>\n",
       "      <td>sagangwee/sagangwee.github.io</td>\n",
       "      <td>149</td>\n",
       "    </tr>\n",
       "    <tr>\n",
       "      <th>6</th>\n",
       "      <td>remotemethod/hello-world</td>\n",
       "      <td>124</td>\n",
       "    </tr>\n",
       "    <tr>\n",
       "      <th>7</th>\n",
       "      <td>zmughal/pygments-mirror</td>\n",
       "      <td>122</td>\n",
       "    </tr>\n",
       "    <tr>\n",
       "      <th>8</th>\n",
       "      <td>willemneal/Docky</td>\n",
       "      <td>121</td>\n",
       "    </tr>\n",
       "    <tr>\n",
       "      <th>9</th>\n",
       "      <td>dscorbett/pygments</td>\n",
       "      <td>120</td>\n",
       "    </tr>\n",
       "  </tbody>\n",
       "</table>\n",
       "</div>"
      ],
      "text/plain": [
       "                        repoName  numberOfLanguage\n",
       "0            polyrabbit/polyglot               216\n",
       "1              nzavagli/UnrealPy               159\n",
       "2              mollstam/UnrealPy               159\n",
       "3               aswinpj/Pygments               154\n",
       "4                objcio/pygments               153\n",
       "5  sagangwee/sagangwee.github.io               149\n",
       "6       remotemethod/hello-world               124\n",
       "7        zmughal/pygments-mirror               122\n",
       "8               willemneal/Docky               121\n",
       "9             dscorbett/pygments               120"
      ]
     },
     "execution_count": 157,
     "metadata": {},
     "output_type": "execute_result"
    }
   ],
   "source": [
    "df"
   ]
  },
  {
   "cell_type": "code",
   "execution_count": 158,
   "metadata": {},
   "outputs": [
    {
     "data": {
      "image/png": "[encoded data removed]",
      "text/plain": [
       "<matplotlib.figure.Figure at 0x7f8ac434ff60>"
      ]
     },
     "metadata": {},
     "output_type": "display_data"
    }
   ],
   "source": [
    "# Visualize the language results\n",
    "plt.style.use('ggplot')\n",
    "\n",
    "sns.set_context(\"notebook\", font_scale=1.5, rc={\"lines.linewidth\": 2.5})\n",
    "\n",
    "f, g = plt.subplots(figsize=(12, 9))\n",
    "g = sns.barplot(x=\"repoName\", y=\"numberOfLanguage\", data=df, palette=\"Blues_d\")\n",
    "g.set_xticklabels(g.get_xticklabels(), rotation=30)\n",
    "plt.title(\"Top 10 repositories with the max using languages\")\n",
    "plt.show(g)\n"
   ]
  },
  {
   "cell_type": "code",
   "execution_count": 324,
   "metadata": {},
   "outputs": [],
   "source": [
    "# Query languages\n",
    "QUERY_LANGUAGES = \"\"\"\n",
    "        SELECT\n",
    "          repoName,\n",
    "          languageName\n",
    "        FROM (\n",
    "          SELECT\n",
    "            repo_name AS repoName,\n",
    "            ARRAY(SELECT name FROM UNNEST(language)) AS languageName\n",
    "          FROM\n",
    "            `bigquery-public-data.github_repos.languages`)\n",
    "        WHERE ARRAY_LENGTH(languageName) > 0\n",
    "        ORDER BY ARRAY_LENGTH(languageName) DESC\n",
    "        LIMIT 10\n",
    "        \"\"\""
   ]
  },
  {
   "cell_type": "code",
   "execution_count": 325,
   "metadata": {},
   "outputs": [
    {
     "name": "stdout",
     "output_type": "stream",
     "text": [
      "\n",
      "        SELECT\n",
      "          repoName,\n",
      "          languageName.name_\n",
      "        FROM (\n",
      "          SELECT\n",
      "            repo_name AS repoName,\n",
      "            ARRAY(SELECT name AS name_ FROM UNNEST(language)) AS languageName\n",
      "          FROM\n",
      "            `bigquery-public-data.github_repos.languages`)\n",
      "        WHERE ARRAY_LENGTH(languageName) > 0\n",
      "        ORDER BY ARRAY_LENGTH(languageName) DESC\n",
      "        LIMIT 10\n",
      "        \n"
     ]
    }
   ],
   "source": [
    "print(QUERY_LANGUAGES)"
   ]
  },
  {
   "cell_type": "code",
   "execution_count": 374,
   "metadata": {},
   "outputs": [
    {
     "data": {
      "text/plain": [
       "0.056098160333931446"
      ]
     },
     "execution_count": 374,
     "metadata": {},
     "output_type": "execute_result"
    }
   ],
   "source": [
    "# Estimate the size of my query to make sure it's not too huge\n",
    "bq_assistant.estimate_query_size(QUERY_LANGUAGES)"
   ]
  },
  {
   "cell_type": "code",
   "execution_count": 216,
   "metadata": {},
   "outputs": [],
   "source": [
    "# Execute my query using query_to_pandas_safe to get my results in a pandas dataframe\n",
    "df = bq_assistant.query_to_pandas_safe(QUERY_LANGUAGES)"
   ]
  },
  {
   "cell_type": "code",
   "execution_count": 217,
   "metadata": {},
   "outputs": [
    {
     "data": {
      "text/html": [
       "<div>\n",
       "<table border=\"1\" class=\"dataframe\">\n",
       "  <thead>\n",
       "    <tr style=\"text-align: right;\">\n",
       "      <th></th>\n",
       "      <th>repoName</th>\n",
       "      <th>languageName</th>\n",
       "    </tr>\n",
       "  </thead>\n",
       "  <tbody>\n",
       "    <tr>\n",
       "      <th>0</th>\n",
       "      <td>polyrabbit/polyglot</td>\n",
       "      <td>[ABAP, AGS Script, AMPL, APL, ATS, Agda, Alloy...</td>\n",
       "    </tr>\n",
       "    <tr>\n",
       "      <th>1</th>\n",
       "      <td>nzavagli/UnrealPy</td>\n",
       "      <td>[APL, ASP, ActionScript, Ada, Agda, Alloy, Apa...</td>\n",
       "    </tr>\n",
       "    <tr>\n",
       "      <th>2</th>\n",
       "      <td>mollstam/UnrealPy</td>\n",
       "      <td>[APL, ASP, ActionScript, Ada, Agda, Alloy, Apa...</td>\n",
       "    </tr>\n",
       "    <tr>\n",
       "      <th>3</th>\n",
       "      <td>aswinpj/Pygments</td>\n",
       "      <td>[APL, ASP, ActionScript, Ada, Agda, Alloy, Apa...</td>\n",
       "    </tr>\n",
       "    <tr>\n",
       "      <th>4</th>\n",
       "      <td>objcio/pygments</td>\n",
       "      <td>[APL, ASP, ActionScript, Ada, Agda, Alloy, Apa...</td>\n",
       "    </tr>\n",
       "    <tr>\n",
       "      <th>5</th>\n",
       "      <td>sagangwee/sagangwee.github.io</td>\n",
       "      <td>[APL, ASP, ActionScript, Ada, Agda, Alloy, Apa...</td>\n",
       "    </tr>\n",
       "    <tr>\n",
       "      <th>6</th>\n",
       "      <td>remotemethod/hello-world</td>\n",
       "      <td>[ABAP, AGS Script, APL, ASP, ActionScript, Ada...</td>\n",
       "    </tr>\n",
       "    <tr>\n",
       "      <th>7</th>\n",
       "      <td>zmughal/pygments-mirror</td>\n",
       "      <td>[APL, ASP, ActionScript, Ada, Agda, Alloy, App...</td>\n",
       "    </tr>\n",
       "    <tr>\n",
       "      <th>8</th>\n",
       "      <td>willemneal/Docky</td>\n",
       "      <td>[APL, ASP, ActionScript, Ada, Agda, Alloy, App...</td>\n",
       "    </tr>\n",
       "    <tr>\n",
       "      <th>9</th>\n",
       "      <td>dscorbett/pygments</td>\n",
       "      <td>[APL, ASP, ActionScript, Ada, Agda, Alloy, App...</td>\n",
       "    </tr>\n",
       "  </tbody>\n",
       "</table>\n",
       "</div>"
      ],
      "text/plain": [
       "                        repoName  \\\n",
       "0            polyrabbit/polyglot   \n",
       "1              nzavagli/UnrealPy   \n",
       "2              mollstam/UnrealPy   \n",
       "3               aswinpj/Pygments   \n",
       "4                objcio/pygments   \n",
       "5  sagangwee/sagangwee.github.io   \n",
       "6       remotemethod/hello-world   \n",
       "7        zmughal/pygments-mirror   \n",
       "8               willemneal/Docky   \n",
       "9             dscorbett/pygments   \n",
       "\n",
       "                                        languageName  \n",
       "0  [ABAP, AGS Script, AMPL, APL, ATS, Agda, Alloy...  \n",
       "1  [APL, ASP, ActionScript, Ada, Agda, Alloy, Apa...  \n",
       "2  [APL, ASP, ActionScript, Ada, Agda, Alloy, Apa...  \n",
       "3  [APL, ASP, ActionScript, Ada, Agda, Alloy, Apa...  \n",
       "4  [APL, ASP, ActionScript, Ada, Agda, Alloy, Apa...  \n",
       "5  [APL, ASP, ActionScript, Ada, Agda, Alloy, Apa...  \n",
       "6  [ABAP, AGS Script, APL, ASP, ActionScript, Ada...  \n",
       "7  [APL, ASP, ActionScript, Ada, Agda, Alloy, App...  \n",
       "8  [APL, ASP, ActionScript, Ada, Agda, Alloy, App...  \n",
       "9  [APL, ASP, ActionScript, Ada, Agda, Alloy, App...  "
      ]
     },
     "execution_count": 217,
     "metadata": {},
     "output_type": "execute_result"
    }
   ],
   "source": [
    "df"
   ]
  },
  {
   "cell_type": "code",
   "execution_count": 376,
   "metadata": {},
   "outputs": [],
   "source": [
    "# Query languages\n",
    "QUERY_LANGUAGES = \"\"\"\n",
    "        SELECT\n",
    "          COUNT(*) AS languageCount,\n",
    "          language.name AS languageName\n",
    "        FROM\n",
    "          `bigquery-public-data.github_repos.languages`\n",
    "        JOIN\n",
    "          UNNEST(language) AS language\n",
    "        GROUP BY languageName\n",
    "        ORDER BY languageCount DESC\n",
    "        LIMIT 10\n",
    "        \"\"\""
   ]
  },
  {
   "cell_type": "code",
   "execution_count": 377,
   "metadata": {},
   "outputs": [
    {
     "name": "stdout",
     "output_type": "stream",
     "text": [
      "\n",
      "        SELECT\n",
      "          COUNT(*) AS languageCount,\n",
      "          language.name AS languageName\n",
      "        FROM\n",
      "          `bigquery-public-data.github_repos.languages`\n",
      "        JOIN\n",
      "          UNNEST(language) AS language\n",
      "        GROUP BY languageName\n",
      "        ORDER BY languageCount DESC\n",
      "        LIMIT 10\n",
      "        \n"
     ]
    }
   ],
   "source": [
    "print(QUERY_LANGUAGES)"
   ]
  },
  {
   "cell_type": "code",
   "execution_count": 378,
   "metadata": {},
   "outputs": [
    {
     "data": {
      "text/plain": [
       "0.056098160333931446"
      ]
     },
     "execution_count": 378,
     "metadata": {},
     "output_type": "execute_result"
    }
   ],
   "source": [
    "# Estimate the size of my query to make sure it's not too huge\n",
    "bq_assistant.estimate_query_size(QUERY_LANGUAGES)"
   ]
  },
  {
   "cell_type": "code",
   "execution_count": 379,
   "metadata": {},
   "outputs": [],
   "source": [
    "# Execute my query using query_to_pandas_safe to get my results in a pandas dataframe\n",
    "df = bq_assistant.query_to_pandas_safe(QUERY_LANGUAGES)"
   ]
  },
  {
   "cell_type": "code",
   "execution_count": 380,
   "metadata": {},
   "outputs": [
    {
     "data": {
      "text/html": [
       "<div>\n",
       "<table border=\"1\" class=\"dataframe\">\n",
       "  <thead>\n",
       "    <tr style=\"text-align: right;\">\n",
       "      <th></th>\n",
       "      <th>languageCount</th>\n",
       "      <th>languageName</th>\n",
       "    </tr>\n",
       "  </thead>\n",
       "  <tbody>\n",
       "    <tr>\n",
       "      <th>0</th>\n",
       "      <td>1123911</td>\n",
       "      <td>JavaScript</td>\n",
       "    </tr>\n",
       "    <tr>\n",
       "      <th>1</th>\n",
       "      <td>837003</td>\n",
       "      <td>CSS</td>\n",
       "    </tr>\n",
       "    <tr>\n",
       "      <th>2</th>\n",
       "      <td>797718</td>\n",
       "      <td>HTML</td>\n",
       "    </tr>\n",
       "    <tr>\n",
       "      <th>3</th>\n",
       "      <td>652449</td>\n",
       "      <td>Shell</td>\n",
       "    </tr>\n",
       "    <tr>\n",
       "      <th>4</th>\n",
       "      <td>559428</td>\n",
       "      <td>Python</td>\n",
       "    </tr>\n",
       "    <tr>\n",
       "      <th>5</th>\n",
       "      <td>383535</td>\n",
       "      <td>Ruby</td>\n",
       "    </tr>\n",
       "    <tr>\n",
       "      <th>6</th>\n",
       "      <td>376549</td>\n",
       "      <td>Java</td>\n",
       "    </tr>\n",
       "    <tr>\n",
       "      <th>7</th>\n",
       "      <td>349087</td>\n",
       "      <td>PHP</td>\n",
       "    </tr>\n",
       "    <tr>\n",
       "      <th>8</th>\n",
       "      <td>302029</td>\n",
       "      <td>C</td>\n",
       "    </tr>\n",
       "    <tr>\n",
       "      <th>9</th>\n",
       "      <td>286761</td>\n",
       "      <td>C++</td>\n",
       "    </tr>\n",
       "  </tbody>\n",
       "</table>\n",
       "</div>"
      ],
      "text/plain": [
       "   languageCount languageName\n",
       "0        1123911   JavaScript\n",
       "1         837003          CSS\n",
       "2         797718         HTML\n",
       "3         652449        Shell\n",
       "4         559428       Python\n",
       "5         383535         Ruby\n",
       "6         376549         Java\n",
       "7         349087          PHP\n",
       "8         302029            C\n",
       "9         286761          C++"
      ]
     },
     "execution_count": 380,
     "metadata": {},
     "output_type": "execute_result"
    }
   ],
   "source": [
    "df"
   ]
  },
  {
   "cell_type": "code",
   "execution_count": 381,
   "metadata": {},
   "outputs": [
    {
     "data": {
      "image/png": "[encoded data removed]",
      "text/plain": [
       "<matplotlib.figure.Figure at 0x7f8aab3286a0>"
      ]
     },
     "metadata": {},
     "output_type": "display_data"
    }
   ],
   "source": [
    "# Visualize the language results\n",
    "plt.style.use('ggplot')\n",
    "\n",
    "sns.set_context(\"notebook\", font_scale=1.5, rc={\"lines.linewidth\": 2.5})\n",
    "\n",
    "f, g = plt.subplots(figsize=(12, 9))\n",
    "g = sns.barplot(x=\"languageName\", y=\"languageCount\", data=df, palette=\"Blues_d\")\n",
    "g.set_xticklabels(g.get_xticklabels(), rotation=30)\n",
    "plt.title(\"Top 10 programming language\")\n",
    "plt.show(g)"
   ]
  }
 ],
 "metadata": {
  "kernelspec": {
   "display_name": "Python 3",
   "language": "python",
   "name": "python3"
  },
  "language_info": {
   "codemirror_mode": {
    "name": "ipython",
    "version": 3
   },
   "file_extension": ".py",
   "mimetype": "text/x-python",
   "name": "python",
   "nbconvert_exporter": "python",
   "pygments_lexer": "ipython3",
   "version": "3.6.3"
  }
 },
 "nbformat": 4,
 "nbformat_minor": 2
}
